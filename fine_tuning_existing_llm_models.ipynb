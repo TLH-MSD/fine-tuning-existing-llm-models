{
 "cells": [
  {
   "cell_type": "markdown",
   "id": "d31c468b",
   "metadata": {},
   "source": [
    "# Fine Tuning Existing LLM Models"
   ]
  },
  {
   "cell_type": "code",
   "execution_count": null,
   "id": "d54b0b72",
   "metadata": {},
   "outputs": [],
   "source": [
    "# Libraries\n",
    "!pip install -q -U trl transformers accelerate git+https://github.com/huggingface/peft.git\n",
    "!pip install -q datasets bitsandbytes einops wandb\n",
    "!pip install bitsandbytes\n",
    "!pip install huggingface_hub\n",
    "from transformers import TrainingArguments\n",
    "from peft import LoraConfig, get_peft_model\n",
    "from transformers import AutoModelForCausalLM, AutoTokenizer, BitsAndBytesConfig, AutoTokenizer\n",
    "from datasets import load_dataset\n",
    "from trl import SFTTrainer\n",
    "from huggingface_hub import login\n",
    "import torch"
   ]
  },
  {
   "cell_type": "code",
   "execution_count": null,
   "id": "ae28208c",
   "metadata": {},
   "outputs": [],
   "source": [
    "# Dataset\n",
    "dataset_name = '' # Add dataset to train on"
   ]
  },
  {
   "cell_type": "code",
   "execution_count": null,
   "id": "fc6dd56a",
   "metadata": {},
   "outputs": [],
   "source": [
    "# Load Dataset\n",
    "dataset = load_dataset(\n",
    "    dataset_name,\n",
    "    split=\"train\"\n",
    ")"
   ]
  },
  {
   "cell_type": "code",
   "execution_count": null,
   "id": "3cec5ec3",
   "metadata": {},
   "outputs": [],
   "source": [
    "# Pre trained model\n",
    "model_name = \"\" # Add model to fine tune"
   ]
  },
  {
   "cell_type": "code",
   "execution_count": null,
   "id": "a3c62b20",
   "metadata": {},
   "outputs": [],
   "source": [
    "# BitsAndBytesConfig\n",
    "bnb_config = BitsAndBytesConfig(\n",
    "    load_in_4bit=True, \n",
    "    bnb_4bit_quant_type=\"nf4\", \n",
    "    bnb_4bit_compute_dtype=torch.float16, \n",
    ")"
   ]
  },
  {
   "cell_type": "code",
   "execution_count": null,
   "id": "c6e43a95",
   "metadata": {},
   "outputs": [],
   "source": [
    "# Loading Model\n",
    "model = AutoModelForCausalLM.from_pretrained(\n",
    "    model_name,\n",
    "    quantization_config=bnb_config,\n",
    "    trust_remote_code=True\n",
    ")\n",
    "model.config.use_cache = False"
   ]
  },
  {
   "cell_type": "code",
   "execution_count": null,
   "id": "8220d8ba",
   "metadata": {},
   "outputs": [],
   "source": [
    "# Tokenizer\n",
    "tokenizer = AutoTokenizer.from_pretrained(\n",
    "    model_name,\n",
    "    trust_remote_code=True\n",
    ")\n",
    "tokenizer.pad_token = tokenizer.eos_token"
   ]
  },
  {
   "cell_type": "code",
   "execution_count": null,
   "id": "1dfc800a",
   "metadata": {},
   "outputs": [],
   "source": [
    "# Lora Configuration\n",
    "lora_alpha = 16\n",
    "lora_dropout = 0.1\n",
    "lora_r = 64\n",
    "peft_config = LoraConfig(\n",
    "    lora_alpha=lora_alpha,\n",
    "    lora_dropout=lora_dropout,\n",
    "    r=lora_r,\n",
    "    bias=\"none\",\n",
    "    task_type=\"CAUSAL_LM\"\n",
    ")"
   ]
  },
  {
   "cell_type": "code",
   "execution_count": null,
   "id": "0a7e09dd",
   "metadata": {},
   "outputs": [],
   "source": [
    "# Training arguments\n",
    "output_dir = \"./results\"\n",
    "per_device_train_batch_size = 4\n",
    "gradient_accumulation_steps = 4\n",
    "optim = \"paged_adamw_32bit\"\n",
    "save_steps = 100\n",
    "logging_steps = 10\n",
    "learning_rate = 2e-4\n",
    "max_grad_norm = 0.3\n",
    "max_steps = 100\n",
    "warmup_ratio = 0.03\n",
    "lr_scheduler_type = \"constant\"\n",
    "\n",
    "training_arguments = TrainingArguments(\n",
    "    output_dir=output_dir,\n",
    "    per_device_train_batch_size=per_device_train_batch_size,\n",
    "    gradient_accumulation_steps=gradient_accumulation_steps,\n",
    "    optim=optim,\n",
    "    save_steps=save_steps,\n",
    "    logging_steps=logging_steps,\n",
    "    learning_rate=learning_rate,\n",
    "    fp16=True,\n",
    "    max_grad_norm=max_grad_norm,\n",
    "    max_steps=max_steps,\n",
    "    warmup_ratio=warmup_ratio,\n",
    "    group_by_length=True,\n",
    "    lr_scheduler_type=lr_scheduler_type,\n",
    ")"
   ]
  },
  {
   "cell_type": "code",
   "execution_count": null,
   "id": "b5cfc613",
   "metadata": {},
   "outputs": [],
   "source": [
    "# SFTTrainer\n",
    "max_seq_length = 512\n",
    "trainer = SFTTrainer(\n",
    "    model=model,\n",
    "    train_dataset=dataset,\n",
    "    peft_config=peft_config,\n",
    "    dataset_text_field=\"text\",\n",
    "    max_seq_length=max_seq_length,\n",
    "    tokenizer=tokenizer,\n",
    "    args=training_arguments,\n",
    ")\n",
    "for name, module in trainer.model.named_modules():\n",
    "    if \"norm\" in name:\n",
    "        module = module.to(\n",
    "            torch.float32\n",
    "        )"
   ]
  },
  {
   "cell_type": "code",
   "execution_count": null,
   "id": "c88d9775",
   "metadata": {},
   "outputs": [],
   "source": [
    "# Train\n",
    "trainer.train()"
   ]
  },
  {
   "cell_type": "code",
   "execution_count": null,
   "id": "304af120",
   "metadata": {},
   "outputs": [],
   "source": [
    "# Post training steps\n",
    "model_to_save = trainer.model.module if hasattr(\n",
    "    trainer.model,\n",
    "    'module'\n",
    ") else trainer.model\n",
    "\n",
    "model_to_save.save_pretrained(\n",
    "    \"outputs\"\n",
    ")\n",
    "\n",
    "lora_config = LoraConfig.from_pretrained(\n",
    "    'outputs'\n",
    ")\n",
    "\n",
    "model = get_peft_model(\n",
    "    model,\n",
    "    lora_config\n",
    ")"
   ]
  },
  {
   "cell_type": "code",
   "execution_count": null,
   "id": "88c54fff",
   "metadata": {},
   "outputs": [],
   "source": [
    "# Text to predict on\n",
    "text = \"\" # Add text to make prediction on"
   ]
  },
  {
   "cell_type": "code",
   "execution_count": null,
   "id": "f100f64b",
   "metadata": {},
   "outputs": [],
   "source": [
    "# Device\n",
    "device = \"cuda:0\""
   ]
  },
  {
   "cell_type": "code",
   "execution_count": null,
   "id": "5e665cf5",
   "metadata": {},
   "outputs": [],
   "source": [
    "# Tokenize input\n",
    "inputs = tokenizer(\n",
    "    text,\n",
    "    return_tensors=\"pt\"\n",
    ").to(\n",
    "    device\n",
    ")"
   ]
  },
  {
   "cell_type": "code",
   "execution_count": null,
   "id": "3e477305",
   "metadata": {},
   "outputs": [],
   "source": [
    "# Output\n",
    "outputs = model.generate(\n",
    "    **inputs,\n",
    "    max_new_tokens=10\n",
    ")"
   ]
  },
  {
   "cell_type": "code",
   "execution_count": null,
   "id": "c95e463b",
   "metadata": {},
   "outputs": [],
   "source": [
    "# Print predicted output\n",
    "print(\n",
    "    tokenizer.decode(\n",
    "        outputs[0],\n",
    "        skip_special_tokens=True\n",
    "    )\n",
    ")"
   ]
  }
 ],
 "metadata": {
  "kernelspec": {
   "display_name": "Python 3 (ipykernel)",
   "language": "python",
   "name": "python3"
  },
  "language_info": {
   "codemirror_mode": {
    "name": "ipython",
    "version": 3
   },
   "file_extension": ".py",
   "mimetype": "text/x-python",
   "name": "python",
   "nbconvert_exporter": "python",
   "pygments_lexer": "ipython3",
   "version": "3.10.13"
  }
 },
 "nbformat": 4,
 "nbformat_minor": 5
}
